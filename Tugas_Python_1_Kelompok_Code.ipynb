{
  "nbformat": 4,
  "nbformat_minor": 0,
  "metadata": {
    "colab": {
      "name": "Tugas Python 1 - Kelompok Code",
      "provenance": [],
      "collapsed_sections": []
    },
    "kernelspec": {
      "name": "python3",
      "display_name": "Python 3"
    },
    "language_info": {
      "name": "python"
    }
  },
  "cells": [
    {
      "cell_type": "markdown",
      "source": [
        "Type Data Numbers:\n",
        "\n",
        "Integer\n",
        "\n",
        "The integer data type is a numeric data type that holds integers. For example the numbers 1,2,3 and so on. So that every variable that has an integer value, it will be categorized as an integer.\n",
        "\n",
        "Complex\n",
        "\n",
        "Almost the same as the integer data type, it's just that the float data type is used for variables that have a fractional / decimal value. The float data type is also included in the numeric data type because this data type stores fractional numbers or also known as real numbers. Separate decimal numbers using a period (.)."
      ],
      "metadata": {
        "id": "vQCsYQHn0BwK"
      }
    },
    {
      "cell_type": "code",
      "execution_count": null,
      "metadata": {
        "id": "l3BCm-ioyidF",
        "colab": {
          "base_uri": "https://localhost:8080/"
        },
        "outputId": "d732c107-993b-4a0d-f7ff-da199d8f6667"
      },
      "outputs": [
        {
          "output_type": "stream",
          "name": "stdout",
          "text": [
            "10\n"
          ]
        },
        {
          "output_type": "execute_result",
          "data": {
            "text/plain": [
              "int"
            ]
          },
          "metadata": {},
          "execution_count": 3
        }
      ],
      "source": [
        "#Number\n",
        "#type data Integer\n",
        "length = 10\n",
        "print(length)\n",
        "type(length)"
      ]
    },
    {
      "cell_type": "code",
      "source": [
        "#type data Complex\n",
        "width = 5.5\n",
        "print(width)\n",
        "type(width)"
      ],
      "metadata": {
        "colab": {
          "base_uri": "https://localhost:8080/"
        },
        "id": "fa0XvJuX0W2D",
        "outputId": "44efdc12-73fc-494a-c9af-3bc8ebaad850"
      },
      "execution_count": null,
      "outputs": [
        {
          "output_type": "stream",
          "name": "stdout",
          "text": [
            "5.5\n"
          ]
        },
        {
          "output_type": "execute_result",
          "data": {
            "text/plain": [
              "float"
            ]
          },
          "metadata": {},
          "execution_count": 4
        }
      ]
    },
    {
      "cell_type": "markdown",
      "source": [
        "#String"
      ],
      "metadata": {
        "id": "Bw242xaj1Peb"
      }
    },
    {
      "cell_type": "markdown",
      "source": [
        "Strings are sequences of character data. The string type in Python is called str.\n",
        "\n",
        "String literals may be delimited using either single or double quotes. All the characters between the opening delimiter and matching closing delimiter are part of the string."
      ],
      "metadata": {
        "id": "eygOyabc1T3-"
      }
    },
    {
      "cell_type": "code",
      "source": [
        "#String with single quote\n",
        "X = 'I am from Indonesia'\n",
        "print(X)"
      ],
      "metadata": {
        "id": "jk64Rg4Xykla",
        "colab": {
          "base_uri": "https://localhost:8080/"
        },
        "outputId": "735c0e27-75c6-46b9-b363-e5d8e5fc1369"
      },
      "execution_count": null,
      "outputs": [
        {
          "output_type": "stream",
          "name": "stdout",
          "text": [
            "I am from Indonesia\n"
          ]
        }
      ]
    },
    {
      "cell_type": "code",
      "source": [
        "#String with double quotes\n",
        "Y = \"I am Studying at MyEduSolve\"\n",
        "print(Y)"
      ],
      "metadata": {
        "colab": {
          "base_uri": "https://localhost:8080/"
        },
        "id": "qKBX-zMo1TLD",
        "outputId": "b71076e7-d7a2-466a-897a-cb57c7a59b6a"
      },
      "execution_count": null,
      "outputs": [
        {
          "output_type": "stream",
          "name": "stdout",
          "text": [
            "I am Studying at MyEduSolve\n"
          ]
        }
      ]
    },
    {
      "cell_type": "markdown",
      "source": [
        "A string in Python can contain as many characters, the only limit is your machine’s memory resources. A string can also be empty."
      ],
      "metadata": {
        "id": "_gQKcf8O1jsO"
      }
    },
    {
      "cell_type": "code",
      "source": [
        "Z = ''\n",
        "print(Z)"
      ],
      "metadata": {
        "colab": {
          "base_uri": "https://localhost:8080/"
        },
        "id": "eTTwdU3Y1irj",
        "outputId": "732297a8-6274-4bb8-8fa3-e5e466e8ac6f"
      },
      "execution_count": null,
      "outputs": [
        {
          "output_type": "stream",
          "name": "stdout",
          "text": [
            "\n"
          ]
        }
      ]
    },
    {
      "cell_type": "markdown",
      "source": [
        "You can't use a quote character as part of the string itself. If you open the string with a single quote, Python will assume the next single quote as the closing delimiter."
      ],
      "metadata": {
        "id": "gSH3akTJ12eR"
      }
    },
    {
      "cell_type": "code",
      "source": [
        "#Wrong example\n",
        "#String_1 = 'in this string I will use a single quote (') character'\n",
        "#print(String_1)\n",
        "\n",
        "#If we run this code, it can be syntax error"
      ],
      "metadata": {
        "id": "475OPKd13CMm"
      },
      "execution_count": null,
      "outputs": []
    },
    {
      "cell_type": "markdown",
      "source": [
        "If you want to include either type of quote character within the string, the simplest way is to delimit the string with the other type. If you want to use single quote in your string, use double quote as your delimiter."
      ],
      "metadata": {
        "id": "Cj70KIXs41ng"
      }
    },
    {
      "cell_type": "code",
      "source": [
        "#Use single quote in string with double quote delimiter\n",
        "string_2 = \"I want to be a data scientist, so I'll start to learn Python\"\n",
        "print(string_2)"
      ],
      "metadata": {
        "colab": {
          "base_uri": "https://localhost:8080/"
        },
        "id": "eBhLzVqw3kac",
        "outputId": "cf1b3c4d-6196-4484-a672-6becb8e85ab8"
      },
      "execution_count": null,
      "outputs": [
        {
          "output_type": "stream",
          "name": "stdout",
          "text": [
            "I want to be a data scientist, so I'll start to learn Python\n"
          ]
        }
      ]
    },
    {
      "cell_type": "code",
      "source": [
        "#Use double quotes in string with single quote delimiter\n",
        "string_3 = 'Andrew McAfee once said, \"The world is one big data problem.\"'\n",
        "print(string_3)"
      ],
      "metadata": {
        "colab": {
          "base_uri": "https://localhost:8080/"
        },
        "id": "KOr3wHsW33aw",
        "outputId": "f26547bc-7353-4a28-edbc-c0d67080b566"
      },
      "execution_count": null,
      "outputs": [
        {
          "output_type": "stream",
          "name": "stdout",
          "text": [
            "Andrew McAfee once said, \"The world is one big data problem.\"\n"
          ]
        }
      ]
    },
    {
      "cell_type": "markdown",
      "source": [
        "**Triple-Quoted Strings**\n",
        "\n",
        "Triple-quoted strings are delimited by matching groups of three single quotes or three double quotes. You can use triple-quoted string to create **multiline string**."
      ],
      "metadata": {
        "id": "5j7h8tZu44Mn"
      }
    },
    {
      "cell_type": "code",
      "source": [
        "#Triple-quoted string\n",
        "mul_string = \"\"\"This is a\n",
        "multiline string.\n",
        "You can create many lines\n",
        "in one time\"\"\"\n",
        "\n",
        "print(mul_string)"
      ],
      "metadata": {
        "colab": {
          "base_uri": "https://localhost:8080/"
        },
        "id": "sb08vSpC49ec",
        "outputId": "eb58c8da-c9b0-4b77-8f0f-22b7eb8dc751"
      },
      "execution_count": null,
      "outputs": [
        {
          "output_type": "stream",
          "name": "stdout",
          "text": [
            "This is a\n",
            "multiline string.\n",
            "You can create many lines\n",
            "in one time\n"
          ]
        }
      ]
    },
    {
      "cell_type": "markdown",
      "source": [
        "**Escape Sequences in Strings**\n",
        "\n",
        "If you want to interpret a character or sequence of characters within a string a differently, you can accomplish that using backslash character.\n",
        "\n",
        "For example, in string, if you want to put a sentence in new line without using enter, you can use backslash+n."
      ],
      "metadata": {
        "id": "6RrGyxeB6PUm"
      }
    },
    {
      "cell_type": "code",
      "source": [
        "#multiline string with backslash+n\n",
        "mul_string2 = \"This is \\nanother multiline string. \\nBut this time, \\nI don't use triple-quoted string.\"\n",
        "print(mul_string2)"
      ],
      "metadata": {
        "colab": {
          "base_uri": "https://localhost:8080/"
        },
        "id": "mGYVo-3J6L9N",
        "outputId": "ed3afad3-eb9d-4be9-f349-e783dd69ab43"
      },
      "execution_count": null,
      "outputs": [
        {
          "output_type": "stream",
          "name": "stdout",
          "text": [
            "This is \n",
            "another multiline string. \n",
            "But this time, \n",
            "I don't use triple-quoted string.\n"
          ]
        }
      ]
    },
    {
      "cell_type": "markdown",
      "source": [
        "#Boolean"
      ],
      "metadata": {
        "id": "ioOEpZym7_oX"
      }
    },
    {
      "cell_type": "markdown",
      "source": [
        "Boolean is a datatype that will return the value of \"True\" or \"False\". This datatype is also known as logical data type due to its capability to solve logical problems"
      ],
      "metadata": {
        "id": "u5-ObiA90s7K"
      }
    },
    {
      "cell_type": "code",
      "source": [
        "#Basic example of boolean\n",
        "\n",
        "A = True #return the value of \"True\"\n",
        "B = False #return the value of \"False\"\n",
        "print(str(A) + \" \" + str(type(A))) #type() is used to determine the object's type while str() is used to convert boolean datatype to string\n",
        "print(str(B) + \" \" + str(type(B)))"
      ],
      "metadata": {
        "colab": {
          "base_uri": "https://localhost:8080/"
        },
        "id": "xgZwQ0Xl1cNX",
        "outputId": "c8ac3053-4cb4-43e3-d111-bc5007d47cf0"
      },
      "execution_count": null,
      "outputs": [
        {
          "output_type": "stream",
          "name": "stdout",
          "text": [
            "True <class 'bool'>\n",
            "False <class 'bool'>\n"
          ]
        }
      ]
    },
    {
      "cell_type": "markdown",
      "source": [
        "Boolean can also be used to determine the comparison between two values as the example below will shown"
      ],
      "metadata": {
        "id": "mfc_j8sK3sVu"
      }
    },
    {
      "cell_type": "code",
      "source": [
        "print(str(3>1)) #these line return the value of \"True\" \n",
        "print(str(3<1))#these line return the value of \"False\" "
      ],
      "metadata": {
        "colab": {
          "base_uri": "https://localhost:8080/"
        },
        "id": "fYQDGP2m3nor",
        "outputId": "c91cb8b4-fc71-4cb4-81ce-84b81c7f44c7"
      },
      "execution_count": null,
      "outputs": [
        {
          "output_type": "stream",
          "name": "stdout",
          "text": [
            "True\n",
            "False\n"
          ]
        }
      ]
    },
    {
      "cell_type": "markdown",
      "source": [
        "The above cell shows that the boolean datatype are capable to determine whether three is a bigger value than one. If we run the cell the debug will automatically determine the boolean value. Boolean can also be used to determine the comparison for string data type"
      ],
      "metadata": {
        "id": "qa4BAWrm46LD"
      }
    },
    {
      "cell_type": "code",
      "source": [
        "#Comparison for String\n",
        "print(str(\"Code\"==\"Code\"))\n",
        "print(str(\"Tensorflow\"!=\"Keras\"))"
      ],
      "metadata": {
        "colab": {
          "base_uri": "https://localhost:8080/"
        },
        "id": "GF7FsMY45-Hr",
        "outputId": "37a4edaa-fe73-4e3e-b65e-bf5926c0c059"
      },
      "execution_count": null,
      "outputs": [
        {
          "output_type": "stream",
          "name": "stdout",
          "text": [
            "True\n",
            "True\n"
          ]
        }
      ]
    },
    {
      "cell_type": "markdown",
      "source": [
        "Another capability of boolean data type is to determine logical problem as the example below will shown"
      ],
      "metadata": {
        "id": "4VyZKpGB6ZZJ"
      }
    },
    {
      "cell_type": "code",
      "source": [
        "#logical operation\n",
        "print(str(2>0 or 1>3))\n",
        "print(str(2>0 and 1>3))\n",
        "print(str(not(2<0)))"
      ],
      "metadata": {
        "colab": {
          "base_uri": "https://localhost:8080/"
        },
        "id": "aFGU08ci6xHm",
        "outputId": "0023a18e-868b-421e-9312-0463b9052d60"
      },
      "execution_count": null,
      "outputs": [
        {
          "output_type": "stream",
          "name": "stdout",
          "text": [
            "True\n",
            "False\n",
            "True\n"
          ]
        }
      ]
    },
    {
      "cell_type": "markdown",
      "source": [
        "Boolean can also use \"is\" and \"in\" operator to solve logical problem"
      ],
      "metadata": {
        "id": "u7ps8wYF8oMb"
      }
    },
    {
      "cell_type": "code",
      "source": [
        "#\"in\" operator\n",
        "print(str(\"e\" in \"MyEduSolve\"))"
      ],
      "metadata": {
        "colab": {
          "base_uri": "https://localhost:8080/"
        },
        "id": "gQIIQvCa8Qc1",
        "outputId": "636cd127-c2a8-430a-fd96-9e79a1645843"
      },
      "execution_count": null,
      "outputs": [
        {
          "output_type": "stream",
          "name": "stdout",
          "text": [
            "True\n"
          ]
        }
      ]
    },
    {
      "cell_type": "code",
      "source": [
        "#is operator\n",
        "x = [2,3]\n",
        "y = x\n",
        "\n",
        "x is y"
      ],
      "metadata": {
        "colab": {
          "base_uri": "https://localhost:8080/"
        },
        "id": "37ibsRS480q7",
        "outputId": "8787686c-dd62-4246-f3a3-f845e1bc8705"
      },
      "execution_count": null,
      "outputs": [
        {
          "output_type": "execute_result",
          "data": {
            "text/plain": [
              "True"
            ]
          },
          "metadata": {},
          "execution_count": 54
        }
      ]
    }
  ]
}